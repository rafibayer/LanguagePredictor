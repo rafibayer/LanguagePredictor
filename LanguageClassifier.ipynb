{
 "cells": [
  {
   "cell_type": "code",
   "execution_count": 1,
   "metadata": {},
   "outputs": [],
   "source": [
    "import numpy as np\n",
    "import tensorflow as tf\n"
   ]
  },
  {
   "cell_type": "code",
   "execution_count": 50,
   "metadata": {
    "scrolled": true
   },
   "outputs": [
    {
     "data": {
      "text/plain": [
       "False"
      ]
     },
     "execution_count": 50,
     "metadata": {},
     "output_type": "execute_result"
    }
   ],
   "source": [
    "ALPHABET = \"abcdefghijklmnopqrstuvwxyz\" # list of character\n",
    "MAX_WORD_LEN = 15 # longest word our network can parse\n",
    "ONE_HOT_SIZE = len(ALPHABET) * MAX_WORD_LEN # how long our one hot array should be\n",
    "\n",
    "# get position of a char in alphabet\n",
    "def getPos(char):\n",
    "    if len(char) > 1:\n",
    "        raise Exception(\"char should be a single character, length was: {}\".format(len(char)))\n",
    "    char = char.lower()\n",
    "    if char not in ALPHABET:\n",
    "        raise Exception(\"char should be in the alphabet, char was: {}\".format(char))\n",
    "    return ALPHABET.index(char)\n",
    "\n",
    "# create a one hot array for value, length of length\n",
    "def oneHot(val, length):\n",
    "    arr = [0]*length\n",
    "    arr[val] = 1\n",
    "    return arr\n",
    "\n",
    "# get one hot array for single char\n",
    "def charOneHot(char):\n",
    "    val = getPos(char)\n",
    "    return oneHot(val, len(ALPHABET))\n",
    "\n",
    "# get one hot arrays for each char in a string\n",
    "def oneHotString(string):\n",
    "    strLen = len(string)\n",
    "    result = [0]*strLen\n",
    "    for i in range(0, strLen):\n",
    "        result[i] = charOneHot(string[i])\n",
    "        \n",
    "    return result\n",
    "\n",
    "# transform a word to a one hot array \n",
    "def wordToInput(word):\n",
    "    if len(word) > MAX_WORD_LEN:\n",
    "        raise Exception(\"Word is too long, must be < 15 char, actual: {}\".format(len(word)))\n",
    "    result = [0]*ONE_HOT_SIZE\n",
    "    index = 0\n",
    "    for char in word:\n",
    "        result[getPos(char) + index] = 1\n",
    "        index = index + len(ALPHABET)\n",
    "    return result\n",
    "    \n",
    "# great, now we can turn words into one hot arrays\n",
    "# now we have to get and label training data\n",
    "\n",
    "# functions for data wrangling\n",
    "\n",
    "# returns true if word only contains letters in alphabet\n",
    "def isAlpha(word):\n",
    "    word = word.lower()\n",
    "    for char in word:\n",
    "        if char not in ALPHABET:\n",
    "            return False\n",
    "        \n",
    "    return True\n",
    "    "
   ]
  },
  {
   "cell_type": "code",
   "execution_count": 93,
   "metadata": {
    "scrolled": false
   },
   "outputs": [
    {
     "name": "stdout",
     "output_type": "stream",
     "text": [
      "English words: 44295\n",
      "German words: 39692\n"
     ]
    }
   ],
   "source": [
    "LANGUAGES = [\"English\", \"German\"]\n",
    "MIN_WORD_LEN = 3\n",
    "\n",
    "# dictionary source: https://github.com/hermitdave/FrequencyWords\n",
    "\n",
    "# data wrangling time, things we have to do:\n",
    "# remove words shorter than 3(not required but it'll help) \n",
    "# remove words containing words outside of the english alphabet (this means no accents)\n",
    "# remove words longer than 15 characters (or whatever we decide our maximum to be)\n",
    "# the dataset I'm using also has frequency for each word, we don't need that\n",
    "\n",
    "english = open(\"english_dict.txt\", \"r\", encoding = \"utf-8\")\n",
    "\n",
    "english_lines = english.readlines()\n",
    "english_words = []\n",
    "for line in english_lines:\n",
    "    split = line.split(\" \")\n",
    "    word = split[0]\n",
    "    if len(word) > MIN_WORD_LEN and len(word) < MAX_WORD_LEN and isAlpha(word):\n",
    "        english_words.append(word)\n",
    "        \n",
    "        \n",
    "german = open(\"german_dict.txt\", \"r\", encoding = \"utf-8\")\n",
    "\n",
    "german_lines = german.readlines()\n",
    "german_words = []\n",
    "for line in german_lines:\n",
    "    split = line.split(\" \")\n",
    "    word = split[0]\n",
    "    if len(word) > MIN_WORD_LEN and len(word) < MAX_WORD_LEN and isAlpha(word):\n",
    "        german_words.append(word)\n",
    "        \n",
    "\n",
    "print(\"English words: {}\".format(len(english_words)))\n",
    "print(\"German words: {}\".format(len(german_words)))\n",
    "\n",
    "# next steps: \n",
    "# balancing dataset, should have equal samples from each\n",
    "# machine learning time"
   ]
  }
 ],
 "metadata": {
  "kernelspec": {
   "display_name": "Python 3",
   "language": "python",
   "name": "python3"
  },
  "language_info": {
   "codemirror_mode": {
    "name": "ipython",
    "version": 3
   },
   "file_extension": ".py",
   "mimetype": "text/x-python",
   "name": "python",
   "nbconvert_exporter": "python",
   "pygments_lexer": "ipython3",
   "version": "3.6.7"
  }
 },
 "nbformat": 4,
 "nbformat_minor": 2
}
