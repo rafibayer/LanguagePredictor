{
 "cells": [
  {
   "cell_type": "code",
   "execution_count": 4,
   "metadata": {},
   "outputs": [],
   "source": [
    "import numpy as np\n",
    "import tensorflow as tf\n"
   ]
  },
  {
   "cell_type": "code",
   "execution_count": 5,
   "metadata": {
    "scrolled": true
   },
   "outputs": [],
   "source": [
    "ALPHABET = \"abcdefghijklmnopqrstuvwxyz\" # list of character\n",
    "MAX_WORD_LEN = 15 # longest word our network can parse\n",
    "ONE_HOT_SIZE = len(ALPHABET) * MAX_WORD_LEN # how long our one hot array should be\n",
    "\n",
    "# get position of a char in alphabet\n",
    "def getPos(char):\n",
    "    if len(char) > 1:\n",
    "        raise Exception(\"char should be a single character, length was: {}\".format(len(char)))\n",
    "    char = char.lower()\n",
    "    if char not in ALPHABET:\n",
    "        raise Exception(\"char should be in the alphabet, char was: {}\".format(char))\n",
    "    return ALPHABET.index(char)\n",
    "\n",
    "# create a one hot array for value, length of length\n",
    "def oneHot(val, length):\n",
    "    arr = [0]*length\n",
    "    arr[val] = 1\n",
    "    return arr\n",
    "\n",
    "# get one hot array for single char\n",
    "def charOneHot(char):\n",
    "    val = getPos(char)\n",
    "    return oneHot(val, len(ALPHABET))\n",
    "\n",
    "# get one hot arrays for each char in a string\n",
    "def oneHotString(string):\n",
    "    strLen = len(string)\n",
    "    result = [0]*strLen\n",
    "    for i in range(0, strLen):\n",
    "        result[i] = charOneHot(string[i])\n",
    "        \n",
    "    return result\n",
    "\n",
    "# transform a word to a one hot array \n",
    "def wordToInput(word):\n",
    "    if len(word) > MAX_WORD_LEN:\n",
    "        raise Exception(\"Word is too long, must be < 15 char, actual: {}\".format(len(word)))\n",
    "    result = [0]*ONE_HOT_SIZE\n",
    "    index = 0\n",
    "    for char in word:\n",
    "        result[getPos(char) + index] = 1\n",
    "        index = index + len(ALPHABET)\n",
    "    return result\n",
    "    \n",
    "# great, now we can turn words into one hot arrays\n",
    "# now we have to get and label training data\n",
    "\n",
    "# functions for data wrangling\n",
    "\n",
    "# returns true if word only contains letters in alphabet\n",
    "def isAlpha(word):\n",
    "    word = word.lower()\n",
    "    for char in word:\n",
    "        if char not in ALPHABET:\n",
    "            return False\n",
    "        \n",
    "    return True\n",
    "    "
   ]
  },
  {
   "cell_type": "code",
   "execution_count": 114,
   "metadata": {
    "scrolled": false
   },
   "outputs": [
    {
     "name": "stdout",
     "output_type": "stream",
     "text": [
      "Word counts before slice:\n",
      "English words: 44295\n",
      "German words: 39692 \n",
      "\n",
      "Word counts after slice:\n",
      "English words: 38000\n",
      "German words: 38000\n"
     ]
    }
   ],
   "source": [
    "LANGUAGES = [\"English\", \"German\"]\n",
    "MIN_WORD_LEN = 3\n",
    "\n",
    "# dictionary source: https://github.com/hermitdave/FrequencyWords\n",
    "\n",
    "# data wrangling time, things we have to do:\n",
    "# remove words shorter than 3(not required but it'll help) \n",
    "# remove words containing words outside of the english alphabet (this means no accents)\n",
    "# remove words longer than 15 characters (or whatever we decide our maximum to be)\n",
    "# the dataset I'm using also has frequency for each word, we don't need that\n",
    "\n",
    "english = open(\"english_dict.txt\", \"r\", encoding = \"utf-8\")\n",
    "\n",
    "english_lines = english.readlines()\n",
    "english_words = []\n",
    "for line in english_lines:\n",
    "    split = line.split(\" \")\n",
    "    word = split[0]\n",
    "    if len(word) > MIN_WORD_LEN and len(word) < MAX_WORD_LEN and isAlpha(word):\n",
    "        english_words.append(word)\n",
    "        \n",
    "        \n",
    "german = open(\"german_dict.txt\", \"r\", encoding = \"utf-8\")\n",
    "\n",
    "german_lines = german.readlines()\n",
    "german_words = []\n",
    "for line in german_lines:\n",
    "    split = line.split(\" \")\n",
    "    word = split[0]\n",
    "    if len(word) > MIN_WORD_LEN and len(word) < MAX_WORD_LEN and isAlpha(word):\n",
    "        german_words.append(word)\n",
    "        \n",
    "print(\"Word counts before slice:\")\n",
    "print(\"English words: {}\".format(len(english_words)))\n",
    "print(\"German words: {} \\n\".format(len(german_words)))\n",
    "\n",
    "\n",
    "#balancing\n",
    "SAMPLES = 38000 # number of words for each language, should be less than smallest dictionary\n",
    "\n",
    "english_words = english_words[0:SAMPLES]\n",
    "german_words = german_words[0:SAMPLES]\n",
    "\n",
    "print(\"Word counts after slice:\")\n",
    "print(\"English words: {}\".format(len(english_words)))\n",
    "print(\"German words: {}\".format(len(german_words)))\n"
   ]
  },
  {
   "cell_type": "code",
   "execution_count": 83,
   "metadata": {},
   "outputs": [],
   "source": [
    "# time to label data\n",
    "from sklearn.utils import shuffle\n",
    "\n",
    "\n",
    "# oops I gotta actually use the one hot stuff\n",
    "X_train = []\n",
    "for word in english_words:\n",
    "    X_train.append(wordToInput(word))\n",
    "\n",
    "for word in german_words:\n",
    "    X_train.append(wordToInput(word))\n",
    "\n",
    "X_train = np.array(X_train)\n",
    "\n",
    "y_train = []\n",
    "y_train.extend([0]*SAMPLES)\n",
    "y_train.extend([1]*SAMPLES)\n",
    "\n",
    "y_train = np.array(y_train)\n",
    "\n",
    "X_train, y_train = shuffle(X_train, y_train)\n",
    "# data labeled in np array\n"
   ]
  },
  {
   "cell_type": "code",
   "execution_count": 84,
   "metadata": {},
   "outputs": [],
   "source": [
    "import pickle\n",
    "\n",
    "pickle_out = open(\"X.pickle\", \"wb\")\n",
    "pickle.dump(X_train, pickle_out)\n",
    "pickle_out.close()\n",
    "\n",
    "pickle_out = open(\"y.pickle\", \"wb\")\n",
    "pickle.dump(y_train, pickle_out)\n",
    "pickle_out.close()"
   ]
  },
  {
   "cell_type": "code",
   "execution_count": 92,
   "metadata": {},
   "outputs": [
    {
     "name": "stdout",
     "output_type": "stream",
     "text": [
      "WARNING:tensorflow:From C:\\Python36\\lib\\site-packages\\tensorflow\\python\\keras\\layers\\core.py:143: calling dropout (from tensorflow.python.ops.nn_ops) with keep_prob is deprecated and will be removed in a future version.\n",
      "Instructions for updating:\n",
      "Please use `rate` instead of `keep_prob`. Rate should be set to `rate = 1 - keep_prob`.\n",
      "Train on 68400 samples, validate on 7600 samples\n",
      "Epoch 1/10\n",
      "68400/68400 [==============================] - 22s 320us/sample - loss: 0.5080 - acc: 0.7352 - val_loss: 0.4615 - val_acc: 0.7737\n",
      "Epoch 2/10\n",
      "68400/68400 [==============================] - 21s 302us/sample - loss: 0.4320 - acc: 0.7820 - val_loss: 0.4489 - val_acc: 0.7768\n",
      "Epoch 3/10\n",
      "68400/68400 [==============================] - 20s 296us/sample - loss: 0.4016 - acc: 0.7945 - val_loss: 0.4673 - val_acc: 0.7682\n",
      "Epoch 4/10\n",
      "68400/68400 [==============================] - 20s 295us/sample - loss: 0.3810 - acc: 0.8032 - val_loss: 0.4674 - val_acc: 0.7718\n",
      "Epoch 5/10\n",
      "68400/68400 [==============================] - 20s 298us/sample - loss: 0.3640 - acc: 0.8099 - val_loss: 0.5009 - val_acc: 0.7638\n",
      "Epoch 6/10\n",
      "68400/68400 [==============================] - 20s 296us/sample - loss: 0.3492 - acc: 0.8151 - val_loss: 0.5105 - val_acc: 0.7693\n",
      "Epoch 7/10\n",
      "68400/68400 [==============================] - 20s 296us/sample - loss: 0.3368 - acc: 0.8194 - val_loss: 0.5646 - val_acc: 0.7608\n",
      "Epoch 8/10\n",
      "68400/68400 [==============================] - 20s 299us/sample - loss: 0.3279 - acc: 0.8223 - val_loss: 0.5952 - val_acc: 0.7597\n",
      "Epoch 9/10\n",
      "68400/68400 [==============================] - 20s 293us/sample - loss: 0.3180 - acc: 0.8248 - val_loss: 0.6205 - val_acc: 0.7612\n",
      "Epoch 10/10\n",
      "68400/68400 [==============================] - 20s 297us/sample - loss: 0.3099 - acc: 0.8272 - val_loss: 0.6427 - val_acc: 0.7601\n"
     ]
    },
    {
     "data": {
      "text/plain": [
       "<tensorflow.python.keras.callbacks.History at 0x29c4a8cd4e0>"
      ]
     },
     "execution_count": 92,
     "metadata": {},
     "output_type": "execute_result"
    }
   ],
   "source": [
    "from tensorflow.keras.models import Sequential\n",
    "from tensorflow.keras.layers import Dense, Dropout, Activation, Flatten, Conv2D, MaxPooling2D\n",
    "\n",
    "model = Sequential()\n",
    "model.add(tf.keras.layers.Dense(ONE_HOT_SIZE))\n",
    "model.add(Activation(\"relu\"))\n",
    "model.add(tf.keras.layers.Dense(128))\n",
    "model.add(Activation(\"relu\"))\n",
    "model.add(Dropout(0.25))\n",
    "model.add(tf.keras.layers.Dense(128))\n",
    "model.add(Activation(\"relu\"))\n",
    "model.add(Dropout(0.25))\n",
    "model.add(tf.keras.layers.Dense(1)) # output layer\n",
    "model.add(Activation(\"sigmoid\"))\n",
    "\n",
    "model.compile(loss='binary_crossentropy',\n",
    "             optimizer = 'adam',\n",
    "             metrics = ['accuracy'])\n",
    "\n",
    "model.fit(X_train, y_train, batch_size = 32, validation_split = 0.1, epochs = 10)\n"
   ]
  },
  {
   "cell_type": "code",
   "execution_count": 93,
   "metadata": {},
   "outputs": [],
   "source": [
    "model.save(\"English-German-v1.model\")"
   ]
  },
  {
   "cell_type": "code",
   "execution_count": 136,
   "metadata": {},
   "outputs": [
    {
     "data": {
      "text/plain": [
       "'English'"
      ]
     },
     "execution_count": 136,
     "metadata": {},
     "output_type": "execute_result"
    }
   ],
   "source": [
    "word = \"watermelon\"\n",
    "word_vec = np.array(wordToInput(word)).reshape(-1, ONE_HOT_SIZE)\n",
    "\n",
    "result = int(0.5 + model.predict(word_vec)[0][0])\n",
    "\n",
    "LANGUAGES[result]"
   ]
  }
 ],
 "metadata": {
  "kernelspec": {
   "display_name": "Python 3",
   "language": "python",
   "name": "python3"
  },
  "language_info": {
   "codemirror_mode": {
    "name": "ipython",
    "version": 3
   },
   "file_extension": ".py",
   "mimetype": "text/x-python",
   "name": "python",
   "nbconvert_exporter": "python",
   "pygments_lexer": "ipython3",
   "version": "3.6.7"
  }
 },
 "nbformat": 4,
 "nbformat_minor": 2
}
