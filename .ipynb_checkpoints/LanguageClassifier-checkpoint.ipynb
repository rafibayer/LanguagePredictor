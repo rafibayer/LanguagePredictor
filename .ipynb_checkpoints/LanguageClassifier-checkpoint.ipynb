{
 "cells": [
  {
   "cell_type": "code",
   "execution_count": 4,
   "metadata": {},
   "outputs": [],
   "source": [
    "import numpy as np\n",
    "import tensorflow as tf\n"
   ]
  },
  {
   "cell_type": "code",
   "execution_count": 159,
   "metadata": {
    "scrolled": true
   },
   "outputs": [],
   "source": [
    "ALPHABET = \"abcdefghijklmnopqrstuvwxyz\" # list of character\n",
    "MAX_WORD_LEN = 15 # longest word our network can parse\n",
    "ONE_HOT_SIZE = len(ALPHABET) * MAX_WORD_LEN # how long our one hot array should be\n",
    "\n",
    "# get position of a char in alphabet\n",
    "def getPos(char):\n",
    "    if len(char) > 1:\n",
    "        raise Exception(\"char should be a single character, length was: {}\".format(len(char)))\n",
    "    char = char.lower()\n",
    "    if char not in ALPHABET:\n",
    "        raise Exception(\"char should be in the alphabet, char was: {}\".format(char))\n",
    "    return ALPHABET.index(char)\n",
    "\n",
    "# create a one hot array for value, length of length\n",
    "def oneHot(val, length):\n",
    "    arr = [0]*length\n",
    "    arr[val] = 1\n",
    "    return arr\n",
    "\n",
    "# get one hot array for single char\n",
    "def charOneHot(char):\n",
    "    val = getPos(char)\n",
    "    return oneHot(val, len(ALPHABET))\n",
    "\n",
    "# get one hot arrays for each char in a string\n",
    "def oneHotString(string):\n",
    "    strLen = len(string)\n",
    "    result = [0]*strLen\n",
    "    for i in range(0, strLen):\n",
    "        result[i] = charOneHot(string[i])\n",
    "        \n",
    "    return result\n",
    "\n",
    "# transform a word to a one hot array \n",
    "def wordToInput(word):\n",
    "    if len(word) > MAX_WORD_LEN:\n",
    "        raise Exception(\"Word is too long, must be < 15 char, actual: {}\".format(len(word)))\n",
    "    result = [0]*ONE_HOT_SIZE\n",
    "    index = 0\n",
    "    for char in word:\n",
    "        result[getPos(char) + index] = 1\n",
    "        index = index + len(ALPHABET)\n",
    "    return result\n",
    "    \n",
    "# great, now we can turn words into one hot arrays\n",
    "# now we have to get and label training data\n",
    "\n",
    "# functions for data wrangling\n",
    "\n",
    "# returns true if word only contains letters in alphabet\n",
    "def isAlpha(word):\n",
    "    word = word.lower()\n",
    "    for char in word:\n",
    "        if char not in ALPHABET:\n",
    "            return False\n",
    "        \n",
    "    return True\n",
    "    "
   ]
  },
  {
   "cell_type": "code",
   "execution_count": 160,
   "metadata": {
    "scrolled": false
   },
   "outputs": [
    {
     "name": "stdout",
     "output_type": "stream",
     "text": [
      "Word counts before slice:\n",
      "English words: 44295\n",
      "German words: 39692 \n",
      "\n",
      "Word counts after slice:\n",
      "English words: 38000\n",
      "German words: 38000\n"
     ]
    }
   ],
   "source": [
    "LANGUAGES = [\"English\", \"German\"]\n",
    "MIN_WORD_LEN = 3\n",
    "\n",
    "# dictionary source: https://github.com/hermitdave/FrequencyWords\n",
    "\n",
    "# data wrangling time, things we have to do:\n",
    "# remove words shorter than 3(not required but it'll help) \n",
    "# remove words containing words outside of the english alphabet (this means no accents)\n",
    "# remove words longer than 15 characters (or whatever we decide our maximum to be)\n",
    "# the dataset I'm using also has frequency for each word, we don't need that\n",
    "\n",
    "english = open(\"english_dict.txt\", \"r\", encoding = \"utf-8\")\n",
    "\n",
    "english_lines = english.readlines()\n",
    "english_words = []\n",
    "for line in english_lines:\n",
    "    split = line.split(\" \")\n",
    "    word = split[0]\n",
    "    if len(word) > MIN_WORD_LEN and len(word) < MAX_WORD_LEN and isAlpha(word):\n",
    "        english_words.append(word)\n",
    "        \n",
    "        \n",
    "german = open(\"german_dict.txt\", \"r\", encoding = \"utf-8\")\n",
    "\n",
    "german_lines = german.readlines()\n",
    "german_words = []\n",
    "for line in german_lines:\n",
    "    split = line.split(\" \")\n",
    "    word = split[0]\n",
    "    if len(word) > MIN_WORD_LEN and len(word) < MAX_WORD_LEN and isAlpha(word):\n",
    "        german_words.append(word)\n",
    "        \n",
    "print(\"Word counts before slice:\")\n",
    "print(\"English words: {}\".format(len(english_words)))\n",
    "print(\"German words: {} \\n\".format(len(german_words)))\n",
    "\n",
    "\n",
    "#balancing\n",
    "SAMPLES = 38000 # number of words for each language, should be less than smallest dictionary\n",
    "\n",
    "english_words = english_words[0:SAMPLES]\n",
    "german_words = german_words[0:SAMPLES]\n",
    "\n",
    "print(\"Word counts after slice:\")\n",
    "print(\"English words: {}\".format(len(english_words)))\n",
    "print(\"German words: {}\".format(len(german_words)))\n"
   ]
  },
  {
   "cell_type": "code",
   "execution_count": 198,
   "metadata": {},
   "outputs": [],
   "source": [
    "# time to label data\n",
    "from sklearn.utils import shuffle\n",
    "\n",
    "\n",
    "# oops I gotta actually use the one hot stuff\n",
    "X_train = []\n",
    "for word in english_words:\n",
    "    X_train.append(wordToInput(word))\n",
    "\n",
    "for word in german_words:\n",
    "    X_train.append(wordToInput(word))\n",
    "\n",
    "X_train = np.array(X_train)\n",
    "\n",
    "y_train = []\n",
    "y_train.extend([0]*SAMPLES)\n",
    "y_train.extend([1]*SAMPLES)\n",
    "y_train = tf.keras.utils.to_categorical(y_train)\n",
    "\n",
    "y_train = np.array(y_train)\n",
    "\n",
    "X_train, y_train = shuffle(X_train, y_train)\n",
    "# data labeled in np array\n"
   ]
  },
  {
   "cell_type": "code",
   "execution_count": 203,
   "metadata": {},
   "outputs": [],
   "source": [
    "import pickle\n",
    "\n",
    "pickle_out = open(\"X.pickle\", \"wb\")\n",
    "pickle.dump(X_train, pickle_out)\n",
    "pickle_out.close()\n",
    "\n",
    "pickle_out = open(\"y.pickle\", \"wb\")\n",
    "pickle.dump(y_train, pickle_out)\n",
    "pickle_out.close()"
   ]
  },
  {
   "cell_type": "code",
   "execution_count": 204,
   "metadata": {},
   "outputs": [
    {
     "name": "stdout",
     "output_type": "stream",
     "text": [
      "Train on 68400 samples, validate on 7600 samples\n",
      "Epoch 1/10\n",
      "68400/68400 [==============================] - 13s 184us/sample - loss: 0.5102 - acc: 0.7352 - val_loss: 0.4492 - val_acc: 0.7703\n",
      "Epoch 2/10\n",
      "68400/68400 [==============================] - 12s 173us/sample - loss: 0.4331 - acc: 0.7806 - val_loss: 0.4489 - val_acc: 0.7689\n",
      "Epoch 3/10\n",
      "68400/68400 [==============================] - 12s 170us/sample - loss: 0.4033 - acc: 0.7945 - val_loss: 0.4571 - val_acc: 0.7679\n",
      "Epoch 4/10\n",
      "68400/68400 [==============================] - 15s 221us/sample - loss: 0.3816 - acc: 0.8021 - val_loss: 0.4611 - val_acc: 0.7696\n",
      "Epoch 5/10\n",
      "68400/68400 [==============================] - 14s 200us/sample - loss: 0.3654 - acc: 0.8083 - val_loss: 0.4818 - val_acc: 0.7704\n",
      "Epoch 6/10\n",
      "68400/68400 [==============================] - 13s 189us/sample - loss: 0.3508 - acc: 0.8138 - val_loss: 0.5019 - val_acc: 0.7662\n",
      "Epoch 7/10\n",
      "68400/68400 [==============================] - 16s 233us/sample - loss: 0.3383 - acc: 0.8177 - val_loss: 0.5419 - val_acc: 0.7629\n",
      "Epoch 8/10\n",
      "68400/68400 [==============================] - 13s 190us/sample - loss: 0.3285 - acc: 0.8222 - val_loss: 0.5940 - val_acc: 0.7663\n",
      "Epoch 9/10\n",
      "68400/68400 [==============================] - 12s 168us/sample - loss: 0.3188 - acc: 0.8252 - val_loss: 0.6153 - val_acc: 0.7642\n",
      "Epoch 10/10\n",
      "68400/68400 [==============================] - 12s 170us/sample - loss: 0.3107 - acc: 0.8265 - val_loss: 0.6692 - val_acc: 0.7567\n"
     ]
    },
    {
     "data": {
      "text/plain": [
       "<tensorflow.python.keras.callbacks.History at 0x29c0775d160>"
      ]
     },
     "execution_count": 204,
     "metadata": {},
     "output_type": "execute_result"
    }
   ],
   "source": [
    "from tensorflow.keras.models import Sequential\n",
    "from tensorflow.keras.layers import Dense, Dropout, Activation, Flatten, Conv2D, MaxPooling2D\n",
    "\n",
    "model = Sequential()\n",
    "model.add(tf.keras.layers.Dense(ONE_HOT_SIZE))\n",
    "model.add(Activation(\"relu\"))\n",
    "model.add(tf.keras.layers.Dense(128))\n",
    "model.add(Activation(\"relu\"))\n",
    "model.add(Dropout(0.25))\n",
    "model.add(tf.keras.layers.Dense(128))\n",
    "model.add(Activation(\"relu\"))\n",
    "model.add(Dropout(0.25))\n",
    "model.add(tf.keras.layers.Dense(2)) # output layer\n",
    "model.add(Activation(\"softmax\"))\n",
    "\n",
    "model.compile(loss='categorical_crossentropy',\n",
    "             optimizer = 'adam',\n",
    "             metrics = ['accuracy'])\n",
    "\n",
    "model.fit(X_train, y_train, batch_size = 32, validation_split = 0.1, epochs = 10)\n"
   ]
  },
  {
   "cell_type": "code",
   "execution_count": 205,
   "metadata": {},
   "outputs": [],
   "source": [
    "model.save(\"English-German-v2.model\")"
   ]
  },
  {
   "cell_type": "code",
   "execution_count": 206,
   "metadata": {},
   "outputs": [
    {
     "name": "stdout",
     "output_type": "stream",
     "text": [
      "WARNING:tensorflow:Sequential models without an `input_shape` passed to the first layer cannot reload their optimizer state. As a result, your model isstarting with a freshly initialized optimizer.\n"
     ]
    }
   ],
   "source": [
    "model = tf.keras.models.load_model(\"English-German-v2.model\")"
   ]
  },
  {
   "cell_type": "code",
   "execution_count": 224,
   "metadata": {},
   "outputs": [
    {
     "data": {
      "text/plain": [
       "'German'"
      ]
     },
     "execution_count": 224,
     "metadata": {},
     "output_type": "execute_result"
    }
   ],
   "source": [
    "word = \"hello\"\n",
    "\n",
    "word_vec = np.array(wordToInput(word)).reshape(-1, ONE_HOT_SIZE)\n",
    "LANGUAGES[np.argmax(model.predict(word_vec))]\n",
    "print(\"confidence: {}%\")\n",
    "\n"
   ]
  }
 ],
 "metadata": {
  "kernelspec": {
   "display_name": "Python 3",
   "language": "python",
   "name": "python3"
  },
  "language_info": {
   "codemirror_mode": {
    "name": "ipython",
    "version": 3
   },
   "file_extension": ".py",
   "mimetype": "text/x-python",
   "name": "python",
   "nbconvert_exporter": "python",
   "pygments_lexer": "ipython3",
   "version": "3.6.7"
  }
 },
 "nbformat": 4,
 "nbformat_minor": 2
}
