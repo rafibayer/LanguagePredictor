{
 "cells": [
  {
   "cell_type": "code",
   "execution_count": 2,
   "metadata": {},
   "outputs": [],
   "source": [
    "import numpy as np\n",
    "import tensorflow as tf\n"
   ]
  },
  {
   "cell_type": "code",
   "execution_count": 3,
   "metadata": {
    "scrolled": true
   },
   "outputs": [],
   "source": [
    "ALPHABET = \"abcdefghijklmnopqrstuvwxyz\" # list of character\n",
    "MAX_WORD_LEN = 15 # longest word our network can parse\n",
    "ONE_HOT_SIZE = len(ALPHABET) * MAX_WORD_LEN # how long our one hot array should be\n",
    "\n",
    "# get position of a char in alphabet\n",
    "def getPos(char):\n",
    "    if len(char) > 1:\n",
    "        raise Exception(\"char should be a single character, length was: {}\".format(len(char)))\n",
    "    char = char.lower()\n",
    "    if char not in ALPHABET:\n",
    "        raise Exception(\"char should be in the alphabet, char was: {}\".format(char))\n",
    "    return ALPHABET.index(char)\n",
    "\n",
    "# create a one hot array for value, length of length\n",
    "def oneHot(val, length):\n",
    "    arr = [0]*length\n",
    "    arr[val] = 1\n",
    "    return arr\n",
    "\n",
    "# get one hot array for single char\n",
    "def charOneHot(char):\n",
    "    val = getPos(char)\n",
    "    return oneHot(val, len(ALPHABET))\n",
    "\n",
    "# get one hot arrays for each char in a string\n",
    "def oneHotString(string):\n",
    "    strLen = len(string)\n",
    "    result = [0]*strLen\n",
    "    for i in range(0, strLen):\n",
    "        result[i] = charOneHot(string[i])\n",
    "        \n",
    "    return result\n",
    "\n",
    "# transform a word to a one hot array \n",
    "def wordToInput(word):\n",
    "    if len(word) > MAX_WORD_LEN:\n",
    "        raise Exception(\"Word is too long, must be < 15 char, actual: {}\".format(len(word)))\n",
    "    result = [0]*ONE_HOT_SIZE\n",
    "    index = 0\n",
    "    for char in word:\n",
    "        result[getPos(char) + index] = 1\n",
    "        index = index + len(ALPHABET)\n",
    "    return result\n",
    "    \n",
    "# great, now we can turn words into one hot arrays\n",
    "# now we have to get and label training data\n",
    "\n",
    "# functions for data wrangling\n",
    "\n",
    "# returns true if word only contains letters in alphabet\n",
    "def isAlpha(word):\n",
    "    word = word.lower()\n",
    "    for char in word:\n",
    "        if char not in ALPHABET:\n",
    "            return False\n",
    "        \n",
    "    return True\n",
    "    "
   ]
  },
  {
   "cell_type": "code",
   "execution_count": 9,
   "metadata": {
    "scrolled": false
   },
   "outputs": [
    {
     "name": "stdout",
     "output_type": "stream",
     "text": [
      "Word counts before slice:\n",
      "English words: 44295\n",
      "German words: 39692\n",
      "French words: 33678 \n",
      "\n",
      "Word counts after slice:\n",
      "English words: 33000\n",
      "German words: 33000\n",
      "French words: 33000\n"
     ]
    }
   ],
   "source": [
    "LANGUAGES = [\"English\", \"German\", \"French\"]\n",
    "MIN_WORD_LEN = 3\n",
    "\n",
    "# dictionary source: https://github.com/hermitdave/FrequencyWords\n",
    "\n",
    "# data wrangling time, things we have to do:\n",
    "# remove words shorter than 3(not required but it'll help) \n",
    "# remove words containing words outside of the english alphabet (this means no accents)\n",
    "# remove words longer than 15 characters (or whatever we decide our maximum to be)\n",
    "# the dataset I'm using also has frequency for each word, we don't need that\n",
    "\n",
    "english = open(\"english_dict.txt\", \"r\", encoding = \"utf-8\")\n",
    "\n",
    "english_lines = english.readlines()\n",
    "english_words = []\n",
    "for line in english_lines:\n",
    "    split = line.split(\" \")\n",
    "    word = split[0]\n",
    "    if len(word) > MIN_WORD_LEN and len(word) < MAX_WORD_LEN and isAlpha(word):\n",
    "        english_words.append(word)\n",
    "        \n",
    "        \n",
    "german = open(\"german_dict.txt\", \"r\", encoding = \"utf-8\")\n",
    "\n",
    "german_lines = german.readlines()\n",
    "german_words = []\n",
    "for line in german_lines:\n",
    "    split = line.split(\" \")\n",
    "    word = split[0]\n",
    "    if len(word) > MIN_WORD_LEN and len(word) < MAX_WORD_LEN and isAlpha(word):\n",
    "        german_words.append(word)\n",
    "        \n",
    "french = open(\"french_dict.txt\", \"r\", encoding = \"utf-8\")\n",
    "\n",
    "french_lines = french.readlines()\n",
    "french_words = []\n",
    "for line in french_lines:\n",
    "    split = line.split(\" \")\n",
    "    word = split[0]\n",
    "    if len(word) > MIN_WORD_LEN and len(word) < MAX_WORD_LEN and isAlpha(word):\n",
    "        french_words.append(word)\n",
    "        \n",
    "print(\"Word counts before slice:\")\n",
    "print(\"English words: {}\".format(len(english_words)))\n",
    "print(\"German words: {}\".format(len(german_words)))\n",
    "print(\"French words: {} \\n\".format(len(french_words)))\n",
    "\n",
    "\n",
    "#balancing\n",
    "SAMPLES = 33000 # number of words for each language, should be less than smallest dictionary\n",
    "\n",
    "english_words = english_words[0:SAMPLES]\n",
    "german_words = german_words[0:SAMPLES]\n",
    "french_words = french_words[0:SAMPLES]\n",
    "\n",
    "print(\"Word counts after slice:\")\n",
    "print(\"English words: {}\".format(len(english_words)))\n",
    "print(\"German words: {}\".format(len(german_words)))\n",
    "print(\"French words: {}\".format(len(french_words)))\n",
    "\n"
   ]
  },
  {
   "cell_type": "code",
   "execution_count": 10,
   "metadata": {},
   "outputs": [],
   "source": [
    "# time to label data\n",
    "from sklearn.utils import shuffle\n",
    "\n",
    "\n",
    "# oops I gotta actually use the one hot stuff\n",
    "X_train = []\n",
    "for word in english_words:\n",
    "    X_train.append(wordToInput(word))\n",
    "\n",
    "for word in german_words:\n",
    "    X_train.append(wordToInput(word))\n",
    "    \n",
    "for word in french_words:\n",
    "    X_train.append(wordToInput(word))\n",
    "\n",
    "X_train = np.array(X_train)\n",
    "\n",
    "y_train = []\n",
    "y_train.extend([0]*SAMPLES)\n",
    "y_train.extend([1]*SAMPLES)\n",
    "y_train.extend([2]*SAMPLES)\n",
    "\n",
    "y_train = tf.keras.utils.to_categorical(y_train)\n",
    "\n",
    "y_train = np.array(y_train)\n",
    "\n",
    "X_train, y_train = shuffle(X_train, y_train)\n",
    "# data labeled in np array\n"
   ]
  },
  {
   "cell_type": "code",
   "execution_count": 11,
   "metadata": {},
   "outputs": [],
   "source": [
    "import pickle\n",
    "\n",
    "pickle_out = open(\"X.pickle\", \"wb\")\n",
    "pickle.dump(X_train, pickle_out)\n",
    "pickle_out.close()\n",
    "\n",
    "pickle_out = open(\"y.pickle\", \"wb\")\n",
    "pickle.dump(y_train, pickle_out)\n",
    "pickle_out.close()"
   ]
  },
  {
   "cell_type": "code",
   "execution_count": 12,
   "metadata": {},
   "outputs": [],
   "source": [
    "import pickle\n",
    "X_train = pickle.load(open(\"X.pickle\", \"rb\"))\n",
    "y_train = pickle.load(open(\"y.pickle\", \"rb\"))"
   ]
  },
  {
   "cell_type": "code",
   "execution_count": 13,
   "metadata": {},
   "outputs": [
    {
     "name": "stdout",
     "output_type": "stream",
     "text": [
      "WARNING:tensorflow:From C:\\Python36\\lib\\site-packages\\tensorflow\\python\\ops\\resource_variable_ops.py:435: colocate_with (from tensorflow.python.framework.ops) is deprecated and will be removed in a future version.\n",
      "Instructions for updating:\n",
      "Colocations handled automatically by placer.\n",
      "WARNING:tensorflow:From C:\\Python36\\lib\\site-packages\\tensorflow\\python\\keras\\layers\\core.py:143: calling dropout (from tensorflow.python.ops.nn_ops) with keep_prob is deprecated and will be removed in a future version.\n",
      "Instructions for updating:\n",
      "Please use `rate` instead of `keep_prob`. Rate should be set to `rate = 1 - keep_prob`.\n",
      "Train on 89100 samples, validate on 9900 samples\n",
      "WARNING:tensorflow:From C:\\Python36\\lib\\site-packages\\tensorflow\\python\\ops\\math_ops.py:3066: to_int32 (from tensorflow.python.ops.math_ops) is deprecated and will be removed in a future version.\n",
      "Instructions for updating:\n",
      "Use tf.cast instead.\n",
      "Epoch 1/10\n",
      "89100/89100 [==============================] - 17s 191us/sample - loss: 0.8632 - acc: 0.5822 - val_loss: 0.7873 - val_acc: 0.6289\n",
      "Epoch 2/10\n",
      "89100/89100 [==============================] - 16s 182us/sample - loss: 0.7431 - acc: 0.6491 - val_loss: 0.7625 - val_acc: 0.6348\n",
      "Epoch 3/10\n",
      "89100/89100 [==============================] - 16s 184us/sample - loss: 0.6974 - acc: 0.6686 - val_loss: 0.7627 - val_acc: 0.6392\n",
      "Epoch 4/10\n",
      "89100/89100 [==============================] - 17s 186us/sample - loss: 0.6671 - acc: 0.6819 - val_loss: 0.7661 - val_acc: 0.6405\n",
      "Epoch 5/10\n",
      "89100/89100 [==============================] - 17s 188us/sample - loss: 0.6455 - acc: 0.6890 - val_loss: 0.7601 - val_acc: 0.6423\n",
      "Epoch 6/10\n",
      "89100/89100 [==============================] - 18s 198us/sample - loss: 0.6239 - acc: 0.6971 - val_loss: 0.7862 - val_acc: 0.6348\n",
      "Epoch 7/10\n",
      "89100/89100 [==============================] - 17s 194us/sample - loss: 0.6073 - acc: 0.7036 - val_loss: 0.7824 - val_acc: 0.6367\n",
      "Epoch 8/10\n",
      "89100/89100 [==============================] - 17s 194us/sample - loss: 0.5944 - acc: 0.7073 - val_loss: 0.8215 - val_acc: 0.6296\n",
      "Epoch 9/10\n",
      "89100/89100 [==============================] - 17s 193us/sample - loss: 0.5826 - acc: 0.7104 - val_loss: 0.8259 - val_acc: 0.6333\n",
      "Epoch 10/10\n",
      "89100/89100 [==============================] - 17s 193us/sample - loss: 0.5723 - acc: 0.7144 - val_loss: 0.8236 - val_acc: 0.6327\n"
     ]
    },
    {
     "data": {
      "text/plain": [
       "<tensorflow.python.keras.callbacks.History at 0x1d9847f1828>"
      ]
     },
     "execution_count": 13,
     "metadata": {},
     "output_type": "execute_result"
    }
   ],
   "source": [
    "from tensorflow.keras.models import Sequential\n",
    "from tensorflow.keras.layers import Dense, Dropout, Activation, Flatten, Conv2D, MaxPooling2D\n",
    "\n",
    "model = Sequential()\n",
    "model.add(tf.keras.layers.Dense(ONE_HOT_SIZE))\n",
    "model.add(Activation(\"relu\"))\n",
    "model.add(tf.keras.layers.Dense(256))\n",
    "model.add(Activation(\"relu\"))\n",
    "model.add(Dropout(0.5))\n",
    "model.add(tf.keras.layers.Dense(256))\n",
    "model.add(Activation(\"relu\"))\n",
    "model.add(Dropout(0.5))\n",
    "model.add(tf.keras.layers.Dense(3)) # output layer\n",
    "model.add(Activation(\"softmax\"))\n",
    "\n",
    "model.compile(loss='categorical_crossentropy',\n",
    "             optimizer = 'adam',\n",
    "             metrics = ['accuracy'])\n",
    "\n",
    "model.fit(X_train, y_train, batch_size = 32, validation_split = 0.1, epochs = 10)\n"
   ]
  },
  {
   "cell_type": "code",
   "execution_count": 14,
   "metadata": {},
   "outputs": [],
   "source": [
    "model.save(\"English-German-French-v2.model\")"
   ]
  },
  {
   "cell_type": "code",
   "execution_count": 15,
   "metadata": {},
   "outputs": [
    {
     "name": "stdout",
     "output_type": "stream",
     "text": [
      "WARNING:tensorflow:Sequential models without an `input_shape` passed to the first layer cannot reload their optimizer state. As a result, your model isstarting with a freshly initialized optimizer.\n"
     ]
    }
   ],
   "source": [
    "model = tf.keras.models.load_model(\"English-German-French-v2.model\")"
   ]
  },
  {
   "cell_type": "code",
   "execution_count": 19,
   "metadata": {},
   "outputs": [
    {
     "data": {
      "text/plain": [
       "'French'"
      ]
     },
     "execution_count": 19,
     "metadata": {},
     "output_type": "execute_result"
    }
   ],
   "source": [
    "word = \"nuit\"\n",
    "\n",
    "word_vec = np.array(wordToInput(word)).reshape(-1, ONE_HOT_SIZE)\n",
    "LANGUAGES[np.argmax(model.predict(word_vec))]\n",
    "\n"
   ]
  }
 ],
 "metadata": {
  "kernelspec": {
   "display_name": "Python 3",
   "language": "python",
   "name": "python3"
  },
  "language_info": {
   "codemirror_mode": {
    "name": "ipython",
    "version": 3
   },
   "file_extension": ".py",
   "mimetype": "text/x-python",
   "name": "python",
   "nbconvert_exporter": "python",
   "pygments_lexer": "ipython3",
   "version": "3.6.7"
  }
 },
 "nbformat": 4,
 "nbformat_minor": 2
}
